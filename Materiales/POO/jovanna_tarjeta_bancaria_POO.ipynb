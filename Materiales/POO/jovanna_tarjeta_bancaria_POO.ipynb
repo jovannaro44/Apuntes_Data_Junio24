{
 "cells": [
  {
   "cell_type": "markdown",
   "metadata": {},
   "source": [
    "### [BONUS](#Ejercicio)\n",
    "\n",
    "***1 - Tarjeta Bancaria:***\n",
    "\n",
    "Crear una clase tarjeta de crédito que tenga como atributos el número de la tarjeta, fecha de caducidad,nombre del titular, estado de la tarjeta, pin y el saldo. Y como métodos, activar tarjeta, desactivar tarjeta, pagar, retirar, ingresar y consultar saldo.\n",
    "\n",
    "Ten en cuenta las siguientes restricciones:\n",
    "- El único parámetro para el constructor será el Nombre del Titula de la tarjeta\n",
    "- La fecha de caducidad será el mes de emision + 2 años de validez\n",
    "- El numero de la tarjeta deber tener 8 dígitos que se generen de manera aleatoria al crear la tarjeta\n",
    "- El pin debe tener 4 dígitos aleatorios\n",
    "- La tarjeta tiene que estar desactivada por defecto\n",
    "- El saldo no puede ser negativo\n",
    "- El saldo por defecto debe ser 500€"
   ]
  },
  {
   "cell_type": "code",
   "execution_count": null,
   "metadata": {},
   "outputs": [],
   "source": []
  }
 ],
 "metadata": {
  "language_info": {
   "name": "python"
  }
 },
 "nbformat": 4,
 "nbformat_minor": 2
}
