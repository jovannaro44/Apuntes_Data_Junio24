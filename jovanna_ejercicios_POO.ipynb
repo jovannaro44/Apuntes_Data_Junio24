{
 "cells": [
  {
   "cell_type": "markdown",
   "metadata": {},
   "source": [
    "# Agenda\n",
    "Realizar una clase que administre una `agenda`. Se debe almacenar para cada contacto el nombre, el teléfono y el email. Además deberá mostrar un menú con las siguientes opciones:\n",
    "\n",
    "- Añadir contacto\n",
    "- Lista de contactos\n",
    "- Buscar contacto\n",
    "- Editar contacto\n",
    "- Cerrar agenda"
   ]
  },
  {
   "cell_type": "code",
   "execution_count": null,
   "metadata": {},
   "outputs": [],
   "source": [
    "class Agenda:\n",
    "    def __init__(self):\n",
    "        self.abierta = False\n",
    "        self.contactos = {}\n",
    "\n",
    "    def abrir_agenda(self):\n",
    "        introducir = input('')\n",
    "        if introducir == 'abrir agenda'\n",
    "    def añadir_contacto(self):\n",
    "        self.abierta = True  #añadir metodo para abrir???\n",
    "        nombre = input('Nombre: ')\n",
    "        telefono = input('Teléfono: ')\n",
    "        email = input('Email: ')\n",
    "        direccion = input('Dirección: ')\n",
    "        ocupacion = input('Ocupación: ')\n",
    "        self.contactos[nombre] = {'Teléfono': telefono, 'Email': email, 'Dirección':direccion, 'Ocupación':ocupacion}\n",
    "        print(f\"Contacto '{nombre}' añadido\")\n",
    "\n",
    "    def listar_contactos(self):\n",
    "        if not self.contactos:\n",
    "            print('Agenda vacía. No tienes contactos')\n",
    "        else:\n",
    "            print('Lista de contactos:')\n",
    "            for nombre, info in self.contactos.items():\n",
    "                print(f\"Nombre: {nombre}, Teléfono: {info['Teléfono']}, Email: {info['Email']}, Direccion: {info['Dirección']}, Ocupación: {info['Ocupación']} \")\n",
    "\n",
    "    def buscar_contacto(self):\n",
    "        nombre = input('Buscar: ')\n",
    "        if nombre in self.contactos:\n",
    "            info = self.contactos[nombre]\n",
    "            print(f\"Nombre: {nombre}, Teléfono: {info['Teléfono']}, Email: {info['Email']}\")\n",
    "        else:\n",
    "            print(f\"El contacto '{nombre}' no existe en la agenda.\")\n",
    "\n",
    "    def editar_contacto(self):\n",
    "        nombre = input('Nombre del contacto a editar: ')\n",
    "        if nombre in self.contactos:\n",
    "            telefono = input('Nuevo teléfono: ')\n",
    "            email = input('Nuevo email: ')\n",
    "            self.contactos[nombre] = {'Teléfono': telefono, 'Email': email}\n",
    "            print(f\"Contacto '{nombre}' actualizado con éxito.\")\n",
    "        else:\n",
    "            print(f\"El contacto '{nombre}' no existe en la agenda.\")\n",
    "\n",
    "    def cerrar_agenda(self):\n",
    "        print('Cerrando la agenda...')\n",
    "        self.abierta = False\n",
    "        return \n",
    "\n",
    "    def mostrar_menu(self):\n",
    "        while True:\n",
    "            print('Menú de opciones:')\n",
    "            print('0. Abrir agenda')\n",
    "            print('1. Añadir contacto')\n",
    "            print('2. Lista de contactos')\n",
    "            print('3. Buscar contacto')\n",
    "            print('4. Editar contacto')\n",
    "            print('5. Cerrar agenda')\n",
    "            opcion = input('Seleccione una opción: ')\n",
    "\n",
    "            if opcion == '0':\n",
    "                self.abrir_agenda()\n",
    "            elif opcion == '1':\n",
    "                self.añadir_contacto()\n",
    "            elif opcion == '2':\n",
    "                self.listar_contactos()\n",
    "            elif opcion == '3':\n",
    "                self.buscar_contacto()\n",
    "            elif opcion == '4':\n",
    "                self.editar_contacto()\n",
    "            elif opcion == '5':\n",
    "                if not self.cerrar_agenda():\n",
    "                    break\n",
    "            else:\n",
    "                print(\"Opción no válida. Intente de nuevo.\")\n"
   ]
  },
  {
   "cell_type": "code",
   "execution_count": null,
   "metadata": {},
   "outputs": [],
   "source": [
    "mi_agenda = Agenda()"
   ]
  },
  {
   "cell_type": "code",
   "execution_count": null,
   "metadata": {},
   "outputs": [],
   "source": [
    "mi_agenda.mostrar_menu()"
   ]
  },
  {
   "cell_type": "markdown",
   "metadata": {},
   "source": [
    "# Banco\n",
    "En un banco tienen clientes que pueden hacer **depósitos** y **extracciones** de dinero. El banco requiere también al final del día calcular la cantidad de dinero que se ha depositado.\n",
    "\n",
    "Se deberán crear **dos clases**, la clase `cliente` y la clase `banco`. La clase **cliente** tendrá los atributos `nombre` y `cantidad` y los métodos `__init__`, `depositar`, `extraer`, `mostrar_total`.\n",
    "\n",
    "La clase **banco** tendrá como atributos 3 objetos de la clase cliente y los métodos `__init__`, `operar` y `deposito_total`."
   ]
  },
  {
   "cell_type": "code",
   "execution_count": null,
   "metadata": {},
   "outputs": [],
   "source": []
  },
  {
   "cell_type": "markdown",
   "metadata": {},
   "source": [
    "# Cuentas ahorro\n",
    "Desarrollar un programa que conste de una **clase padre** `Cuenta` y **dos subclases** `PlazoFijo` y `CajaAhorro`. Definir los **atributos** `titular` y `cantidad` y un **método** para `imprimir` los datos en la clase Cuenta. La **clase CajaAhorro** tendrá un método para heredar los datos y uno para mostrar la información.\n",
    "\n",
    "La **clase PlazoFijo** tendrá dos atributos propios, `plazo` e `interés`. Tendrá un método para obtener el importe del interés (cantidad*interés/100) y otro método para mostrar la información, datos del titular plazo, interés y total de interés.\n",
    "\n",
    "Crear al menos un objeto de cada subclase."
   ]
  },
  {
   "cell_type": "code",
   "execution_count": null,
   "metadata": {},
   "outputs": [],
   "source": []
  }
 ],
 "metadata": {
  "language_info": {
   "name": "python"
  }
 },
 "nbformat": 4,
 "nbformat_minor": 2
}
